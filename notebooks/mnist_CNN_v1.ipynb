{
 "cells": [
  {
   "cell_type": "code",
   "execution_count": 2,
   "metadata": {},
   "outputs": [
    {
     "ename": "SyntaxError",
     "evalue": "invalid syntax (<ipython-input-2-24bd327910b6>, line 15)",
     "output_type": "error",
     "traceback": [
      "\u001b[1;36m  File \u001b[1;32m\"<ipython-input-2-24bd327910b6>\"\u001b[1;36m, line \u001b[1;32m15\u001b[0m\n\u001b[1;33m    import ../utils\u001b[0m\n\u001b[1;37m           ^\u001b[0m\n\u001b[1;31mSyntaxError\u001b[0m\u001b[1;31m:\u001b[0m invalid syntax\n"
     ]
    }
   ],
   "source": [
    "import tensorflow as tf\n",
    "import keras\n",
    "from keras import layers\n",
    "import numpy as np\n",
    "import pandas as pd\n",
    "import sklearn\n",
    "\n",
    "import matplotlib.pyplot as plt\n",
    "import matplotlib.image as mpimg\n",
    "import seaborn as sns\n",
    "%matplotlib inline\n",
    "\n",
    "np.random.seed(2)\n",
    "\n",
    "import ../utils"
   ]
  },
  {
   "cell_type": "code",
   "execution_count": 2,
   "metadata": {},
   "outputs": [],
   "source": [
    "batch_size = 128\n",
    "epochs = 25\n",
    "num_classes = 10\n",
    "patience = num_classes // 5\n",
    "\n",
    "dimx, dimy = 28, 28\n",
    "\n",
    "val_split = 0.1  # set to 0 for no val"
   ]
  },
  {
   "cell_type": "code",
   "execution_count": 1,
   "metadata": {},
   "outputs": [
    {
     "ename": "NameError",
     "evalue": "name 'utils' is not defined",
     "output_type": "error",
     "traceback": [
      "\u001b[1;31m---------------------------------------------------------------------------\u001b[0m",
      "\u001b[1;31mNameError\u001b[0m                                 Traceback (most recent call last)",
      "\u001b[1;32m<ipython-input-1-1a5b0b10e299>\u001b[0m in \u001b[0;36m<module>\u001b[1;34m\u001b[0m\n\u001b[1;32m----> 1\u001b[1;33m \u001b[0mdir_\u001b[0m \u001b[1;33m=\u001b[0m \u001b[0mutils\u001b[0m\u001b[1;33m.\u001b[0m\u001b[0mDATA_DIR\u001b[0m \u001b[1;33m/\u001b[0m \u001b[1;34m'mnist'\u001b[0m\u001b[1;33m\u001b[0m\u001b[1;33m\u001b[0m\u001b[0m\n\u001b[0m",
      "\u001b[1;31mNameError\u001b[0m: name 'utils' is not defined"
     ]
    }
   ],
   "source": [
    "dir_ = utils.DATA_DIR / 'mnist'\n"
   ]
  },
  {
   "cell_type": "code",
   "execution_count": 4,
   "metadata": {},
   "outputs": [],
   "source": [
    "train = pd.read_csv(str(dir_ / 'train.csv'))\n",
    "test = pd.read_csv(str(dir_ / 'test.csv'))"
   ]
  },
  {
   "cell_type": "code",
   "execution_count": 5,
   "metadata": {},
   "outputs": [],
   "source": [
    "y_train = train.pop('label')\n",
    "X_train = train\n",
    "\n",
    "# normalize\n",
    "X_train = X_train / 255.0\n",
    "test = test / 255.0\n",
    "\n",
    "y_train = keras.utils.np_utils.to_categorical(y_train, num_classes=10)"
   ]
  },
  {
   "cell_type": "code",
   "execution_count": 6,
   "metadata": {},
   "outputs": [],
   "source": [
    "X_train = X_train.values.reshape(X_train.shape[0],dimx, dimy, 1)\n",
    "test = test.values.reshape(test.shape[0],dimx, dimy, 1)"
   ]
  },
  {
   "cell_type": "code",
   "execution_count": 7,
   "metadata": {},
   "outputs": [],
   "source": [
    "input_shape = (dimx, dimy, 1)  # (x, y, channels) only greyscale -> 1 channel"
   ]
  },
  {
   "cell_type": "code",
   "execution_count": 8,
   "metadata": {},
   "outputs": [
    {
     "name": "stdout",
     "output_type": "stream",
     "text": [
      "Model: \"sequential_1\"\n",
      "_________________________________________________________________\n",
      "Layer (type)                 Output Shape              Param #   \n",
      "=================================================================\n",
      "conv2d_1 (Conv2D)            (None, 26, 26, 32)        320       \n",
      "_________________________________________________________________\n",
      "conv2d_2 (Conv2D)            (None, 24, 24, 64)        18496     \n",
      "_________________________________________________________________\n",
      "max_pooling2d_1 (MaxPooling2 (None, 12, 12, 64)        0         \n",
      "_________________________________________________________________\n",
      "dropout_1 (Dropout)          (None, 12, 12, 64)        0         \n",
      "_________________________________________________________________\n",
      "flatten_1 (Flatten)          (None, 9216)              0         \n",
      "_________________________________________________________________\n",
      "dense_1 (Dense)              (None, 128)               1179776   \n",
      "_________________________________________________________________\n",
      "dropout_2 (Dropout)          (None, 128)               0         \n",
      "_________________________________________________________________\n",
      "dense_2 (Dense)              (None, 10)                1290      \n",
      "=================================================================\n",
      "Total params: 1,199,882\n",
      "Trainable params: 1,199,882\n",
      "Non-trainable params: 0\n",
      "_________________________________________________________________\n"
     ]
    }
   ],
   "source": [
    "model = keras.models.Sequential()\n",
    "\n",
    "model.add(layers.Conv2D(32, kernel_size=(3, 3), activation='relu', input_shape=input_shape))\n",
    "model.add(layers.Conv2D(64, (3, 3), activation='relu'))\n",
    "model.add(layers.MaxPooling2D(pool_size=(2, 2)))\n",
    "model.add(layers.Dropout(0.25))\n",
    "\n",
    "\n",
    "# finally pass through ffn\n",
    "model.add(layers.Flatten())\n",
    "model.add(layers.Dense(128, activation='relu'))\n",
    "model.add(layers.Dropout(0.5))\n",
    "model.add(layers.Dense(num_classes, activation='softmax'))\n",
    "\n",
    "\n",
    "model.compile(\n",
    "    optimizer=keras.optimizers.Adadelta(),\n",
    "    loss='categorical_crossentropy',\n",
    "    metrics=['accuracy']\n",
    ")\n",
    "\n",
    "model.summary()"
   ]
  },
  {
   "cell_type": "code",
   "execution_count": 9,
   "metadata": {},
   "outputs": [],
   "source": [
    "# # callbacks\n",
    "# early_stop = keras.callbacks.EarlyStopping(monitor='val_loss', patience=patience)"
   ]
  },
  {
   "cell_type": "code",
   "execution_count": 10,
   "metadata": {},
   "outputs": [
    {
     "name": "stdout",
     "output_type": "stream",
     "text": [
      "Train on 37800 samples, validate on 4200 samples\n",
      "Epoch 1/25\n",
      "37800/37800 [==============================] - 5s 126us/step - loss: 0.3407 - accuracy: 0.8942 - val_loss: 0.0752 - val_accuracy: 0.9743\n",
      "Epoch 2/25\n",
      "37800/37800 [==============================] - 3s 71us/step - loss: 0.1067 - accuracy: 0.9685 - val_loss: 0.0626 - val_accuracy: 0.9802\n",
      "Epoch 3/25\n",
      "37800/37800 [==============================] - 3s 71us/step - loss: 0.0792 - accuracy: 0.9766 - val_loss: 0.0455 - val_accuracy: 0.9845\n",
      "Epoch 4/25\n",
      "37800/37800 [==============================] - 3s 70us/step - loss: 0.0618 - accuracy: 0.9812 - val_loss: 0.0402 - val_accuracy: 0.9857\n",
      "Epoch 5/25\n",
      "37800/37800 [==============================] - 3s 71us/step - loss: 0.0529 - accuracy: 0.9842 - val_loss: 0.0347 - val_accuracy: 0.9864\n",
      "Epoch 6/25\n",
      "37800/37800 [==============================] - 3s 70us/step - loss: 0.0467 - accuracy: 0.9851 - val_loss: 0.0363 - val_accuracy: 0.9855\n",
      "Epoch 7/25\n",
      "37800/37800 [==============================] - 3s 70us/step - loss: 0.0427 - accuracy: 0.9867 - val_loss: 0.0365 - val_accuracy: 0.9886\n",
      "Epoch 8/25\n",
      "37800/37800 [==============================] - 3s 70us/step - loss: 0.0385 - accuracy: 0.9880 - val_loss: 0.0350 - val_accuracy: 0.9881\n",
      "Epoch 9/25\n",
      "37800/37800 [==============================] - 3s 71us/step - loss: 0.0345 - accuracy: 0.9896 - val_loss: 0.0330 - val_accuracy: 0.9888\n",
      "Epoch 10/25\n",
      "37800/37800 [==============================] - 3s 72us/step - loss: 0.0312 - accuracy: 0.9902 - val_loss: 0.0295 - val_accuracy: 0.9900\n",
      "Epoch 11/25\n",
      "37800/37800 [==============================] - 3s 73us/step - loss: 0.0281 - accuracy: 0.9912 - val_loss: 0.0291 - val_accuracy: 0.9900\n",
      "Epoch 12/25\n",
      "37800/37800 [==============================] - 3s 74us/step - loss: 0.0271 - accuracy: 0.9914 - val_loss: 0.0352 - val_accuracy: 0.9871\n",
      "Epoch 13/25\n",
      "37800/37800 [==============================] - 3s 74us/step - loss: 0.0248 - accuracy: 0.9921 - val_loss: 0.0305 - val_accuracy: 0.9902\n",
      "Epoch 14/25\n",
      "37800/37800 [==============================] - 3s 73us/step - loss: 0.0232 - accuracy: 0.9927 - val_loss: 0.0370 - val_accuracy: 0.9881\n",
      "Epoch 15/25\n",
      "37800/37800 [==============================] - 3s 73us/step - loss: 0.0225 - accuracy: 0.9926 - val_loss: 0.0295 - val_accuracy: 0.9902\n",
      "Epoch 16/25\n",
      "37800/37800 [==============================] - 3s 72us/step - loss: 0.0209 - accuracy: 0.9933 - val_loss: 0.0364 - val_accuracy: 0.9886\n",
      "Epoch 17/25\n",
      "37800/37800 [==============================] - 3s 73us/step - loss: 0.0201 - accuracy: 0.9937 - val_loss: 0.0292 - val_accuracy: 0.9895\n",
      "Epoch 18/25\n",
      "37800/37800 [==============================] - 3s 72us/step - loss: 0.0178 - accuracy: 0.9942 - val_loss: 0.0354 - val_accuracy: 0.9893\n",
      "Epoch 19/25\n",
      "37800/37800 [==============================] - 3s 72us/step - loss: 0.0189 - accuracy: 0.9933 - val_loss: 0.0310 - val_accuracy: 0.9905\n",
      "Epoch 20/25\n",
      "37800/37800 [==============================] - 3s 74us/step - loss: 0.0171 - accuracy: 0.9944 - val_loss: 0.0368 - val_accuracy: 0.9898\n",
      "Epoch 21/25\n",
      "37800/37800 [==============================] - 3s 73us/step - loss: 0.0177 - accuracy: 0.9944 - val_loss: 0.0302 - val_accuracy: 0.9905\n",
      "Epoch 22/25\n",
      "37800/37800 [==============================] - 3s 73us/step - loss: 0.0170 - accuracy: 0.9943 - val_loss: 0.0332 - val_accuracy: 0.9905\n",
      "Epoch 23/25\n",
      "37800/37800 [==============================] - 3s 73us/step - loss: 0.0177 - accuracy: 0.9947 - val_loss: 0.0335 - val_accuracy: 0.9914\n",
      "Epoch 24/25\n",
      "37800/37800 [==============================] - 3s 73us/step - loss: 0.0157 - accuracy: 0.9946 - val_loss: 0.0350 - val_accuracy: 0.9888\n",
      "Epoch 25/25\n",
      "37800/37800 [==============================] - 3s 74us/step - loss: 0.0155 - accuracy: 0.9951 - val_loss: 0.0357 - val_accuracy: 0.9895\n"
     ]
    }
   ],
   "source": [
    "history = model.fit(\n",
    "    X_train, y_train,\n",
    "    epochs=epochs,\n",
    "    batch_size=batch_size,\n",
    "    validation_split=val_split,\n",
    "#     callbacks=[early_stop]\n",
    ")"
   ]
  },
  {
   "cell_type": "code",
   "execution_count": 11,
   "metadata": {},
   "outputs": [
    {
     "data": {
      "image/png": "[encoded data removed]",
      "text/plain": [
       "<Figure size 576x360 with 1 Axes>"
      ]
     },
     "metadata": {
      "needs_background": "light"
     },
     "output_type": "display_data"
    }
   ],
   "source": [
    "source = pd.DataFrame(history.history)\n",
    "source.plot(figsize=(8,5))\n",
    "plt.grid(True)\n",
    "plt.show()"
   ]
  },
  {
   "cell_type": "code",
   "execution_count": 12,
   "metadata": {},
   "outputs": [
    {
     "data": {
      "text/plain": [
       "array([6], dtype=int64)"
      ]
     },
     "execution_count": 12,
     "metadata": {},
     "output_type": "execute_result"
    }
   ],
   "source": [
    "el = X_train[45]\n",
    "\n",
    "y_proba = model.predict_classes(el.reshape(1, *el.shape))\n",
    "y_proba"
   ]
  },
  {
   "cell_type": "code",
   "execution_count": 13,
   "metadata": {},
   "outputs": [
    {
     "data": {
      "text/plain": [
       "<matplotlib.image.AxesImage at 0x1ca8de696c8>"
      ]
     },
     "execution_count": 13,
     "metadata": {},
     "output_type": "execute_result"
    },
    {
     "data": {
      "image/png": "[encoded data removed]",
      "text/plain": [
       "<Figure size 432x288 with 1 Axes>"
      ]
     },
     "metadata": {
      "needs_background": "light"
     },
     "output_type": "display_data"
    }
   ],
   "source": [
    "plt.imshow(el.reshape(dimx, dimy))"
   ]
  },
  {
   "cell_type": "code",
   "execution_count": 14,
   "metadata": {},
   "outputs": [],
   "source": [
    "results = model.predict_classes(test)\n",
    "results = pd.Series(results,name=\"Label\")"
   ]
  },
  {
   "cell_type": "code",
   "execution_count": 15,
   "metadata": {},
   "outputs": [],
   "source": [
    "submissions=pd.DataFrame({\"ImageId\": list(range(1,len(results)+1)), \"Label\": results})\n",
    "submissions.to_csv(\"mnist_results.csv\", index=False, header=True)"
   ]
  }
 ],
 "metadata": {
  "kernelspec": {
   "display_name": "venv",
   "language": "python",
   "name": "venv"
  },
  "language_info": {
   "codemirror_mode": {
    "name": "ipython",
    "version": 3
   },
   "file_extension": ".py",
   "mimetype": "text/x-python",
   "name": "python",
   "nbconvert_exporter": "python",
   "pygments_lexer": "ipython3",
   "version": "3.7.7"
  }
 },
 "nbformat": 4,
 "nbformat_minor": 4
}
